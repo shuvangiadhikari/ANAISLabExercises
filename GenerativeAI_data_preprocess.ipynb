{
  "nbformat": 4,
  "nbformat_minor": 0,
  "metadata": {
    "colab": {
      "provenance": [],
      "gpuType": "T4",
      "include_colab_link": true
    },
    "kernelspec": {
      "name": "python3",
      "display_name": "Python 3"
    },
    "language_info": {
      "name": "python"
    }
  },
  "cells": [
    {
      "cell_type": "markdown",
      "metadata": {
        "id": "view-in-github",
        "colab_type": "text"
      },
      "source": [
        "<a href=\"https://colab.research.google.com/github/shuvangiadhikari/ANAISLabExercises/blob/main/GenerativeAI_data_preprocess.ipynb\" target=\"_parent\"><img src=\"https://colab.research.google.com/assets/colab-badge.svg\" alt=\"Open In Colab\"/></a>"
      ]
    },
    {
      "cell_type": "markdown",
      "source": [
        "Text preprocessing\n",
        "\n",
        "* Load raw text data from the source\n",
        "* Clean raw texts\n",
        "* Crate tokens, split string into words list\n",
        "* Create token in ints (indices)\n",
        "* Create the embedding the vectors before feeding the vectors into the Networks."
      ],
      "metadata": {
        "id": "brGIxs1et1kS"
      }
    },
    {
      "cell_type": "code",
      "execution_count": null,
      "metadata": {
        "id": "FnwtxuCvRRLk",
        "colab": {
          "base_uri": "https://localhost:8080/"
        },
        "outputId": "3fe64713-d18b-4d3a-a595-428c51307e21"
      },
      "outputs": [
        {
          "output_type": "stream",
          "name": "stdout",
          "text": [
            "Drive already mounted at gdrive; to attempt to forcibly remount, call drive.mount(\"gdrive\", force_remount=True).\n"
          ]
        }
      ],
      "source": [
        "import torch\n",
        "import torch.nn as nn\n",
        "import torch.optim as optim\n",
        "from google.colab import drive\n",
        "drive.mount('gdrive')\n",
        "import pandas as pd\n",
        "import numpy as np\n",
        "from torch.utils.data import DataLoader"
      ]
    },
    {
      "cell_type": "markdown",
      "source": [
        "Load raw text from sources"
      ],
      "metadata": {
        "id": "96ydasrovU7O"
      }
    },
    {
      "cell_type": "code",
      "source": [
        "data_file = \"/content/gdrive/My Drive/GenerativeAI/pubmed_abs.csv\"\n",
        "df = pd.read_csv(data_file)"
      ],
      "metadata": {
        "id": "LsyrNMsYxHqf"
      },
      "execution_count": null,
      "outputs": []
    },
    {
      "cell_type": "markdown",
      "source": [
        "Create token, split words"
      ],
      "metadata": {
        "id": "u8_RGYcFxOOE"
      }
    },
    {
      "cell_type": "code",
      "source": [
        "df.head()"
      ],
      "metadata": {
        "colab": {
          "base_uri": "https://localhost:8080/",
          "height": 206
        },
        "id": "6weY1YecStmp",
        "outputId": "d591d1b6-bb8e-4363-b388-108bac47f8fc"
      },
      "execution_count": null,
      "outputs": [
        {
          "output_type": "execute_result",
          "data": {
            "text/plain": [
              "       pmid                                           Abstract\n",
              "0  37379638  How is professional purpose impacted in the co...\n",
              "1  37379636  This paper examines the daily practices of car...\n",
              "2  37379564  Innovation in laboratory testing algorithms to...\n",
              "3  37379547  Hamman s syndrome or spontaneous pneumomediast...\n",
              "4  37379541  The Mu iz hospital is an institution with hist..."
            ],
            "text/html": [
              "\n",
              "  <div id=\"df-0b9866bc-7ec2-4a5e-98f4-f5385e2daae4\">\n",
              "    <div class=\"colab-df-container\">\n",
              "      <div>\n",
              "<style scoped>\n",
              "    .dataframe tbody tr th:only-of-type {\n",
              "        vertical-align: middle;\n",
              "    }\n",
              "\n",
              "    .dataframe tbody tr th {\n",
              "        vertical-align: top;\n",
              "    }\n",
              "\n",
              "    .dataframe thead th {\n",
              "        text-align: right;\n",
              "    }\n",
              "</style>\n",
              "<table border=\"1\" class=\"dataframe\">\n",
              "  <thead>\n",
              "    <tr style=\"text-align: right;\">\n",
              "      <th></th>\n",
              "      <th>pmid</th>\n",
              "      <th>Abstract</th>\n",
              "    </tr>\n",
              "  </thead>\n",
              "  <tbody>\n",
              "    <tr>\n",
              "      <th>0</th>\n",
              "      <td>37379638</td>\n",
              "      <td>How is professional purpose impacted in the co...</td>\n",
              "    </tr>\n",
              "    <tr>\n",
              "      <th>1</th>\n",
              "      <td>37379636</td>\n",
              "      <td>This paper examines the daily practices of car...</td>\n",
              "    </tr>\n",
              "    <tr>\n",
              "      <th>2</th>\n",
              "      <td>37379564</td>\n",
              "      <td>Innovation in laboratory testing algorithms to...</td>\n",
              "    </tr>\n",
              "    <tr>\n",
              "      <th>3</th>\n",
              "      <td>37379547</td>\n",
              "      <td>Hamman s syndrome or spontaneous pneumomediast...</td>\n",
              "    </tr>\n",
              "    <tr>\n",
              "      <th>4</th>\n",
              "      <td>37379541</td>\n",
              "      <td>The Mu iz hospital is an institution with hist...</td>\n",
              "    </tr>\n",
              "  </tbody>\n",
              "</table>\n",
              "</div>\n",
              "      <button class=\"colab-df-convert\" onclick=\"convertToInteractive('df-0b9866bc-7ec2-4a5e-98f4-f5385e2daae4')\"\n",
              "              title=\"Convert this dataframe to an interactive table.\"\n",
              "              style=\"display:none;\">\n",
              "        \n",
              "  <svg xmlns=\"http://www.w3.org/2000/svg\" height=\"24px\"viewBox=\"0 0 24 24\"\n",
              "       width=\"24px\">\n",
              "    <path d=\"M0 0h24v24H0V0z\" fill=\"none\"/>\n",
              "    <path d=\"M18.56 5.44l.94 2.06.94-2.06 2.06-.94-2.06-.94-.94-2.06-.94 2.06-2.06.94zm-11 1L8.5 8.5l.94-2.06 2.06-.94-2.06-.94L8.5 2.5l-.94 2.06-2.06.94zm10 10l.94 2.06.94-2.06 2.06-.94-2.06-.94-.94-2.06-.94 2.06-2.06.94z\"/><path d=\"M17.41 7.96l-1.37-1.37c-.4-.4-.92-.59-1.43-.59-.52 0-1.04.2-1.43.59L10.3 9.45l-7.72 7.72c-.78.78-.78 2.05 0 2.83L4 21.41c.39.39.9.59 1.41.59.51 0 1.02-.2 1.41-.59l7.78-7.78 2.81-2.81c.8-.78.8-2.07 0-2.86zM5.41 20L4 18.59l7.72-7.72 1.47 1.35L5.41 20z\"/>\n",
              "  </svg>\n",
              "      </button>\n",
              "      \n",
              "  <style>\n",
              "    .colab-df-container {\n",
              "      display:flex;\n",
              "      flex-wrap:wrap;\n",
              "      gap: 12px;\n",
              "    }\n",
              "\n",
              "    .colab-df-convert {\n",
              "      background-color: #E8F0FE;\n",
              "      border: none;\n",
              "      border-radius: 50%;\n",
              "      cursor: pointer;\n",
              "      display: none;\n",
              "      fill: #1967D2;\n",
              "      height: 32px;\n",
              "      padding: 0 0 0 0;\n",
              "      width: 32px;\n",
              "    }\n",
              "\n",
              "    .colab-df-convert:hover {\n",
              "      background-color: #E2EBFA;\n",
              "      box-shadow: 0px 1px 2px rgba(60, 64, 67, 0.3), 0px 1px 3px 1px rgba(60, 64, 67, 0.15);\n",
              "      fill: #174EA6;\n",
              "    }\n",
              "\n",
              "    [theme=dark] .colab-df-convert {\n",
              "      background-color: #3B4455;\n",
              "      fill: #D2E3FC;\n",
              "    }\n",
              "\n",
              "    [theme=dark] .colab-df-convert:hover {\n",
              "      background-color: #434B5C;\n",
              "      box-shadow: 0px 1px 3px 1px rgba(0, 0, 0, 0.15);\n",
              "      filter: drop-shadow(0px 1px 2px rgba(0, 0, 0, 0.3));\n",
              "      fill: #FFFFFF;\n",
              "    }\n",
              "  </style>\n",
              "\n",
              "      <script>\n",
              "        const buttonEl =\n",
              "          document.querySelector('#df-0b9866bc-7ec2-4a5e-98f4-f5385e2daae4 button.colab-df-convert');\n",
              "        buttonEl.style.display =\n",
              "          google.colab.kernel.accessAllowed ? 'block' : 'none';\n",
              "\n",
              "        async function convertToInteractive(key) {\n",
              "          const element = document.querySelector('#df-0b9866bc-7ec2-4a5e-98f4-f5385e2daae4');\n",
              "          const dataTable =\n",
              "            await google.colab.kernel.invokeFunction('convertToInteractive',\n",
              "                                                     [key], {});\n",
              "          if (!dataTable) return;\n",
              "\n",
              "          const docLinkHtml = 'Like what you see? Visit the ' +\n",
              "            '<a target=\"_blank\" href=https://colab.research.google.com/notebooks/data_table.ipynb>data table notebook</a>'\n",
              "            + ' to learn more about interactive tables.';\n",
              "          element.innerHTML = '';\n",
              "          dataTable['output_type'] = 'display_data';\n",
              "          await google.colab.output.renderOutput(dataTable, element);\n",
              "          const docLink = document.createElement('div');\n",
              "          docLink.innerHTML = docLinkHtml;\n",
              "          element.appendChild(docLink);\n",
              "        }\n",
              "      </script>\n",
              "    </div>\n",
              "  </div>\n",
              "  "
            ]
          },
          "metadata": {},
          "execution_count": 4
        }
      ]
    },
    {
      "cell_type": "code",
      "source": [
        "texts = df[\"Abstract\"].str.cat(sep=' ').lower().split( ' ')"
      ],
      "metadata": {
        "id": "AS-aXXQi5J0Y"
      },
      "execution_count": null,
      "outputs": []
    },
    {
      "cell_type": "code",
      "source": [
        "len(texts)"
      ],
      "metadata": {
        "id": "JO3E9LdzOhGg",
        "colab": {
          "base_uri": "https://localhost:8080/"
        },
        "outputId": "c5ba1a5d-f9ff-470a-cfd1-ec19965f773e"
      },
      "execution_count": null,
      "outputs": [
        {
          "output_type": "execute_result",
          "data": {
            "text/plain": [
              "19330"
            ]
          },
          "metadata": {},
          "execution_count": 6
        }
      ]
    },
    {
      "cell_type": "markdown",
      "source": [
        "Create moel"
      ],
      "metadata": {
        "id": "7F_wY0i1SmjD"
      }
    },
    {
      "cell_type": "code",
      "source": [
        "texts[:24]"
      ],
      "metadata": {
        "id": "JAs4U0tkDAQd",
        "colab": {
          "base_uri": "https://localhost:8080/"
        },
        "outputId": "43d5e821-2d83-47cc-a1a6-db0c0fcb555e"
      },
      "execution_count": null,
      "outputs": [
        {
          "output_type": "execute_result",
          "data": {
            "text/plain": [
              "['how',\n",
              " 'is',\n",
              " 'professional',\n",
              " 'purpose',\n",
              " 'impacted',\n",
              " 'in',\n",
              " 'the',\n",
              " 'context',\n",
              " 'of',\n",
              " 'a',\n",
              " 'crisis',\n",
              " 'building',\n",
              " 'on',\n",
              " 'discussions',\n",
              " 'about',\n",
              " 'professional',\n",
              " 'purpose',\n",
              " 'and',\n",
              " 'identity',\n",
              " 'the',\n",
              " 'paper',\n",
              " 'explores',\n",
              " 'how',\n",
              " 'the']"
            ]
          },
          "metadata": {},
          "execution_count": 7
        }
      ]
    },
    {
      "cell_type": "markdown",
      "source": [
        "Counts the words and find the unique words"
      ],
      "metadata": {
        "id": "NSyZmWcbx6Bx"
      }
    },
    {
      "cell_type": "code",
      "source": [
        "from collections import Counter\n",
        "word_counts = Counter(texts)\n",
        "ll = word_counts.items()\n",
        "list(ll)[:10]"
      ],
      "metadata": {
        "id": "NU4Jkf_rSuMp",
        "colab": {
          "base_uri": "https://localhost:8080/"
        },
        "outputId": "a1554d4c-3447-4be1-cbb8-b6fb18f612ee"
      },
      "execution_count": null,
      "outputs": [
        {
          "output_type": "execute_result",
          "data": {
            "text/plain": [
              "[('how', 14),\n",
              " ('is', 96),\n",
              " ('professional', 6),\n",
              " ('purpose', 8),\n",
              " ('impacted', 4),\n",
              " ('in', 432),\n",
              " ('the', 1036),\n",
              " ('context', 7),\n",
              " ('of', 735),\n",
              " ('a', 284)]"
            ]
          },
          "metadata": {},
          "execution_count": 8
        }
      ]
    },
    {
      "cell_type": "code",
      "source": [
        "uniq_words = sorted(word_counts, key=word_counts.get, reverse=True)"
      ],
      "metadata": {
        "id": "Qd4Bva6imj2g"
      },
      "execution_count": null,
      "outputs": []
    },
    {
      "cell_type": "code",
      "source": [
        "uniq_words[:10]"
      ],
      "metadata": {
        "id": "yX2tJAhIUfHt",
        "colab": {
          "base_uri": "https://localhost:8080/"
        },
        "outputId": "855af5bd-5196-4a67-b297-4431f18faa3d"
      },
      "execution_count": null,
      "outputs": [
        {
          "output_type": "execute_result",
          "data": {
            "text/plain": [
              "['the', 'and', 'of', 'to', 'in', 'a', 'covid', '19', 'with', 'for']"
            ]
          },
          "metadata": {},
          "execution_count": 18
        }
      ]
    },
    {
      "cell_type": "markdown",
      "source": [
        "Change words into the ints (index)"
      ],
      "metadata": {
        "id": "JPX6GKyxzKiW"
      }
    },
    {
      "cell_type": "code",
      "source": [
        "index_to_word = {index: word for index, word in enumerate(uniq_words)}\n",
        "word_to_index = {word: index for index, word in enumerate(uniq_words)}"
      ],
      "metadata": {
        "id": "WPYhtoaDUi-w"
      },
      "execution_count": null,
      "outputs": []
    },
    {
      "cell_type": "code",
      "source": [
        "words_indexes = [word_to_index[w] for w in texts]"
      ],
      "metadata": {
        "id": "-Fj4pyU1VMHr"
      },
      "execution_count": null,
      "outputs": []
    },
    {
      "cell_type": "code",
      "source": [
        "words_indexes[:10], texts[:10]"
      ],
      "metadata": {
        "id": "5CxG2W3IVcMl",
        "colab": {
          "base_uri": "https://localhost:8080/"
        },
        "outputId": "30fd431f-d9d8-4c35-e107-70f05b043f6e"
      },
      "execution_count": null,
      "outputs": [
        {
          "output_type": "execute_result",
          "data": {
            "text/plain": [
              "([180, 20, 487, 348, 735, 4, 0, 405, 2, 5],\n",
              " ['how',\n",
              "  'is',\n",
              "  'professional',\n",
              "  'purpose',\n",
              "  'impacted',\n",
              "  'in',\n",
              "  'the',\n",
              "  'context',\n",
              "  'of',\n",
              "  'a'])"
            ]
          },
          "metadata": {},
          "execution_count": 15
        }
      ]
    },
    {
      "cell_type": "markdown",
      "source": [
        "Convert indices into the tensors"
      ],
      "metadata": {
        "id": "3rjB4X9p0EHT"
      }
    },
    {
      "cell_type": "code",
      "source": [
        "X = []\n",
        "Y = []\n",
        "sequence_length =10\n",
        "for ind in range(len(words_indexes)):\n",
        "  if len(words_indexes[ind+1:ind+sequence_length+1]) ==10:\n",
        "    X.append(torch.tensor(words_indexes[ind:ind+sequence_length]))\n",
        "    Y.append(torch.tensor(words_indexes[ind+1:ind+sequence_length+1]))\n",
        "  else:\n",
        "    pass"
      ],
      "metadata": {
        "id": "MczApmj9VjDs"
      },
      "execution_count": null,
      "outputs": []
    },
    {
      "cell_type": "code",
      "source": [
        "import torch\n",
        "from torch.utils.data import DataLoader\n",
        "from torch import nn\n",
        "dataset = (X, Y)\n",
        "dataloader = DataLoader(\n",
        "        X,\n",
        "        batch_size=120\n",
        "    )"
      ],
      "metadata": {
        "id": "beMsfSBNXpFO"
      },
      "execution_count": null,
      "outputs": []
    },
    {
      "cell_type": "markdown",
      "source": [
        "Convert data into the batches and create the numerical vectors using embedding techinques"
      ],
      "metadata": {
        "id": "b8BHOgDR0V9X"
      }
    },
    {
      "cell_type": "code",
      "source": [
        "input_size = len(uniq_words)\n",
        "embedding_size = 128\n",
        "n =0\n",
        "for inputs in dataloader:\n",
        "  embd = nn.Embedding(num_embeddings=input_size, embedding_dim=embedding_size)\n",
        "  xx = embd(torch.tensor(inputs))\n",
        "  print (xx.shape)\n",
        "  n +=1\n",
        "  if n >2:\n",
        "    break"
      ],
      "metadata": {
        "id": "ggMnV4gSYU0N",
        "colab": {
          "base_uri": "https://localhost:8080/"
        },
        "outputId": "6ded83c0-8565-4de8-8d0f-377020851c6b"
      },
      "execution_count": null,
      "outputs": [
        {
          "output_type": "stream",
          "name": "stdout",
          "text": [
            "torch.Size([120, 10, 128])\n",
            "torch.Size([120, 10, 128])\n",
            "torch.Size([120, 10, 128])\n"
          ]
        },
        {
          "output_type": "stream",
          "name": "stderr",
          "text": [
            "<ipython-input-22-14cd4a0ef43b>:6: UserWarning: To copy construct from a tensor, it is recommended to use sourceTensor.clone().detach() or sourceTensor.clone().detach().requires_grad_(True), rather than torch.tensor(sourceTensor).\n",
            "  xx = embd(torch.tensor(inputs))\n"
          ]
        }
      ]
    },
    {
      "cell_type": "code",
      "source": [
        "xx[0][0]"
      ],
      "metadata": {
        "id": "Qkcmsz5RctIh",
        "colab": {
          "base_uri": "https://localhost:8080/"
        },
        "outputId": "aef22d15-f52d-44a0-d057-271f30d2f7ee"
      },
      "execution_count": null,
      "outputs": [
        {
          "output_type": "execute_result",
          "data": {
            "text/plain": [
              "tensor([-1.5531e+00, -5.9284e-01,  1.5100e+00,  4.7731e-01, -2.3512e-01,\n",
              "        -7.2703e-01,  2.0939e+00,  1.7408e+00,  1.8377e+00, -7.2472e-01,\n",
              "         2.9135e+00,  1.7316e+00, -3.5297e-01,  5.5829e-02, -1.8850e+00,\n",
              "         6.0044e-01,  4.9413e-01, -5.3847e-01, -1.1383e+00,  5.5877e-01,\n",
              "        -1.5090e+00,  6.2680e-01, -1.5942e-01, -2.0330e+00, -1.3071e+00,\n",
              "         4.2319e-01,  1.0438e+00,  2.1428e+00, -6.2572e-02, -1.8984e-03,\n",
              "         1.5252e-01,  3.2341e-01,  1.3185e-01, -2.7833e-01,  1.4877e-01,\n",
              "         1.1812e+00, -2.3717e-01, -6.7418e-01, -1.3395e+00,  7.1931e-01,\n",
              "        -1.0401e-01, -1.4957e+00, -1.0678e+00, -5.1200e-01, -9.8695e-01,\n",
              "         3.0946e-01, -2.6842e-01, -2.1929e+00, -7.3708e-01,  1.3182e+00,\n",
              "        -1.0368e+00, -2.6049e-01,  5.9164e-01, -4.4862e-03,  6.4260e-01,\n",
              "        -1.1450e+00, -3.7862e-01,  1.9779e-01,  6.5543e-01,  6.0119e-01,\n",
              "        -6.4137e-02,  4.5408e-01,  8.3873e-01, -8.4961e-01,  1.0152e+00,\n",
              "        -4.3120e-02, -1.1783e+00,  4.3797e-01, -1.4113e+00,  5.4634e-02,\n",
              "        -6.0072e-01,  2.3335e-01, -7.8283e-01,  1.0118e+00, -1.3476e+00,\n",
              "        -5.1850e-01,  8.9634e-02, -1.2937e-01, -4.6004e-01,  8.8918e-01,\n",
              "         1.0499e+00, -2.1509e-01,  3.5872e-01,  3.7749e-01, -2.2858e+00,\n",
              "         3.2075e-01,  2.0072e-01, -1.2946e+00,  1.8294e+00, -1.6542e+00,\n",
              "        -4.3098e-02, -5.3288e-01, -5.0076e-01, -3.6409e-01, -4.8045e-01,\n",
              "         1.4816e+00, -1.9553e+00,  3.7651e-01, -3.6429e-01, -3.7808e-01,\n",
              "         3.4226e-01, -1.3029e+00,  1.3102e+00, -1.4046e+00,  1.1568e+00,\n",
              "         1.6329e+00, -7.7169e-01, -4.8397e-01, -1.8478e+00,  5.0491e-02,\n",
              "        -6.9793e-01,  1.9409e-01, -2.4307e+00, -1.8126e+00, -9.7424e-01,\n",
              "         2.8764e-01, -2.6212e-01,  4.9716e-01, -1.6553e-01,  5.0333e-01,\n",
              "        -2.9619e-01,  1.3016e+00,  1.3980e+00, -5.8407e-02,  2.4655e-01,\n",
              "        -1.3782e+00,  6.0694e-01,  1.0095e+00], grad_fn=<SelectBackward0>)"
            ]
          },
          "metadata": {},
          "execution_count": 21
        }
      ]
    },
    {
      "cell_type": "code",
      "source": [],
      "metadata": {
        "id": "7sEZWNOtdVps"
      },
      "execution_count": null,
      "outputs": []
    }
  ]
}